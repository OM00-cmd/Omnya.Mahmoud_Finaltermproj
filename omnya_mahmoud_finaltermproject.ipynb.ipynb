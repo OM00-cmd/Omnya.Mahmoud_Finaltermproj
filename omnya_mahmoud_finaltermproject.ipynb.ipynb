{
  "cells": [
    {
      "cell_type": "markdown",
      "source": [
        "# Final Term Project\n",
        "\n",
        "## 634851 Data Mining\n",
        "\n",
        "Professor: Yasser Abduallah\n",
        "\n",
        "**Date:** July 2024\n",
        "\n",
        "**Student:** Omnya Mahmoud\n"
      ],
      "metadata": {
        "id": "bfhe8Sea38y0"
      },
      "id": "bfhe8Sea38y0"
    },
    {
      "cell_type": "markdown",
      "id": "73399f5d-0db0-4f25-a33e-6741901710e7",
      "metadata": {
        "id": "73399f5d-0db0-4f25-a33e-6741901710e7"
      },
      "source": [
        "# Final Term Project\n",
        "## Implementing Classification Algorithms on Diabetes Dataset.\n",
        "## Introduction\n",
        "\n",
        "The objective of this project is to build a classification model to predict diabetes outcomes using the Pima Indians Diabetes dataset. This dataset is sourced from Kaggle and consists of various medical predictor variables and one target variable (Outcome). The project involves data preprocessing, model building, training, and evaluation.\n",
        "\n"
      ]
    },
    {
      "cell_type": "markdown",
      "source": [
        "## Dataset Description\n",
        "\n",
        "The Pima Indians Diabetes dataset includes several medical predictor variables and one target variable (Outcome). The predictor variables include:\n",
        "- Pregnancies\n",
        "- Glucose\n",
        "- Blood Pressure\n",
        "- Skin Thickness\n",
        "- Insulin\n",
        "- BMI\n",
        "- Diabetes Pedigree Function\n",
        "- Age\n",
        "\n",
        "The target variable is `Outcome`, which indicates whether the patient has diabetes (1) or not (0).\n"
      ],
      "metadata": {
        "id": "O98WcF3g47Cy"
      },
      "id": "O98WcF3g47Cy"
    },
    {
      "cell_type": "markdown",
      "id": "6ae41ae5-2d81-491f-80f2-5260e5d73e74",
      "metadata": {
        "id": "6ae41ae5-2d81-491f-80f2-5260e5d73e74"
      },
      "source": [
        "## Import Required Libraries\n",
        "\n",
        "First, we need to import the necessary libraries. These include `pandas` for data manipulation, `train_test_split` from `sklearn` for splitting the dataset, `RandomForestClassifier` from `sklearn` for building the model, and various metrics for evaluating the model.\n"
      ]
    },
    {
      "cell_type": "code",
      "source": [
        "# Install necessary libraries\n",
        "!pip install -q tensorflow scikit-learn keras\n",
        "!pip install tensorflow scikit-learn\n"
      ],
      "metadata": {
        "colab": {
          "base_uri": "https://localhost:8080/",
          "height": 0
        },
        "id": "vdNNzb1ljSku",
        "outputId": "ab32ad4f-dc59-4fba-fa24-9084190e1b92"
      },
      "id": "vdNNzb1ljSku",
      "execution_count": 33,
      "outputs": [
        {
          "output_type": "stream",
          "name": "stdout",
          "text": [
            "Requirement already satisfied: tensorflow in /usr/local/lib/python3.10/dist-packages (2.17.0)\n",
            "Requirement already satisfied: scikit-learn in /usr/local/lib/python3.10/dist-packages (1.5.1)\n",
            "Requirement already satisfied: absl-py>=1.0.0 in /usr/local/lib/python3.10/dist-packages (from tensorflow) (1.4.0)\n",
            "Requirement already satisfied: astunparse>=1.6.0 in /usr/local/lib/python3.10/dist-packages (from tensorflow) (1.6.3)\n",
            "Requirement already satisfied: flatbuffers>=24.3.25 in /usr/local/lib/python3.10/dist-packages (from tensorflow) (24.3.25)\n",
            "Requirement already satisfied: gast!=0.5.0,!=0.5.1,!=0.5.2,>=0.2.1 in /usr/local/lib/python3.10/dist-packages (from tensorflow) (0.6.0)\n",
            "Requirement already satisfied: google-pasta>=0.1.1 in /usr/local/lib/python3.10/dist-packages (from tensorflow) (0.2.0)\n",
            "Requirement already satisfied: h5py>=3.10.0 in /usr/local/lib/python3.10/dist-packages (from tensorflow) (3.11.0)\n",
            "Requirement already satisfied: libclang>=13.0.0 in /usr/local/lib/python3.10/dist-packages (from tensorflow) (18.1.1)\n",
            "Requirement already satisfied: ml-dtypes<0.5.0,>=0.3.1 in /usr/local/lib/python3.10/dist-packages (from tensorflow) (0.4.0)\n",
            "Requirement already satisfied: opt-einsum>=2.3.2 in /usr/local/lib/python3.10/dist-packages (from tensorflow) (3.3.0)\n",
            "Requirement already satisfied: packaging in /usr/local/lib/python3.10/dist-packages (from tensorflow) (24.1)\n",
            "Requirement already satisfied: protobuf!=4.21.0,!=4.21.1,!=4.21.2,!=4.21.3,!=4.21.4,!=4.21.5,<5.0.0dev,>=3.20.3 in /usr/local/lib/python3.10/dist-packages (from tensorflow) (3.20.3)\n",
            "Requirement already satisfied: requests<3,>=2.21.0 in /usr/local/lib/python3.10/dist-packages (from tensorflow) (2.31.0)\n",
            "Requirement already satisfied: setuptools in /usr/local/lib/python3.10/dist-packages (from tensorflow) (71.0.4)\n",
            "Requirement already satisfied: six>=1.12.0 in /usr/local/lib/python3.10/dist-packages (from tensorflow) (1.16.0)\n",
            "Requirement already satisfied: termcolor>=1.1.0 in /usr/local/lib/python3.10/dist-packages (from tensorflow) (2.4.0)\n",
            "Requirement already satisfied: typing-extensions>=3.6.6 in /usr/local/lib/python3.10/dist-packages (from tensorflow) (4.12.2)\n",
            "Requirement already satisfied: wrapt>=1.11.0 in /usr/local/lib/python3.10/dist-packages (from tensorflow) (1.14.1)\n",
            "Requirement already satisfied: grpcio<2.0,>=1.24.3 in /usr/local/lib/python3.10/dist-packages (from tensorflow) (1.64.1)\n",
            "Requirement already satisfied: tensorboard<2.18,>=2.17 in /usr/local/lib/python3.10/dist-packages (from tensorflow) (2.17.0)\n",
            "Requirement already satisfied: keras>=3.2.0 in /usr/local/lib/python3.10/dist-packages (from tensorflow) (3.4.1)\n",
            "Requirement already satisfied: tensorflow-io-gcs-filesystem>=0.23.1 in /usr/local/lib/python3.10/dist-packages (from tensorflow) (0.37.1)\n",
            "Requirement already satisfied: numpy<2.0.0,>=1.23.5 in /usr/local/lib/python3.10/dist-packages (from tensorflow) (1.25.2)\n",
            "Requirement already satisfied: scipy>=1.6.0 in /usr/local/lib/python3.10/dist-packages (from scikit-learn) (1.11.4)\n",
            "Requirement already satisfied: joblib>=1.2.0 in /usr/local/lib/python3.10/dist-packages (from scikit-learn) (1.4.2)\n",
            "Requirement already satisfied: threadpoolctl>=3.1.0 in /usr/local/lib/python3.10/dist-packages (from scikit-learn) (3.5.0)\n",
            "Requirement already satisfied: wheel<1.0,>=0.23.0 in /usr/local/lib/python3.10/dist-packages (from astunparse>=1.6.0->tensorflow) (0.43.0)\n",
            "Requirement already satisfied: rich in /usr/local/lib/python3.10/dist-packages (from keras>=3.2.0->tensorflow) (13.7.1)\n",
            "Requirement already satisfied: namex in /usr/local/lib/python3.10/dist-packages (from keras>=3.2.0->tensorflow) (0.0.8)\n",
            "Requirement already satisfied: optree in /usr/local/lib/python3.10/dist-packages (from keras>=3.2.0->tensorflow) (0.12.1)\n",
            "Requirement already satisfied: charset-normalizer<4,>=2 in /usr/local/lib/python3.10/dist-packages (from requests<3,>=2.21.0->tensorflow) (3.3.2)\n",
            "Requirement already satisfied: idna<4,>=2.5 in /usr/local/lib/python3.10/dist-packages (from requests<3,>=2.21.0->tensorflow) (3.7)\n",
            "Requirement already satisfied: urllib3<3,>=1.21.1 in /usr/local/lib/python3.10/dist-packages (from requests<3,>=2.21.0->tensorflow) (2.0.7)\n",
            "Requirement already satisfied: certifi>=2017.4.17 in /usr/local/lib/python3.10/dist-packages (from requests<3,>=2.21.0->tensorflow) (2024.7.4)\n",
            "Requirement already satisfied: markdown>=2.6.8 in /usr/local/lib/python3.10/dist-packages (from tensorboard<2.18,>=2.17->tensorflow) (3.6)\n",
            "Requirement already satisfied: tensorboard-data-server<0.8.0,>=0.7.0 in /usr/local/lib/python3.10/dist-packages (from tensorboard<2.18,>=2.17->tensorflow) (0.7.2)\n",
            "Requirement already satisfied: werkzeug>=1.0.1 in /usr/local/lib/python3.10/dist-packages (from tensorboard<2.18,>=2.17->tensorflow) (3.0.3)\n",
            "Requirement already satisfied: MarkupSafe>=2.1.1 in /usr/local/lib/python3.10/dist-packages (from werkzeug>=1.0.1->tensorboard<2.18,>=2.17->tensorflow) (2.1.5)\n",
            "Requirement already satisfied: markdown-it-py>=2.2.0 in /usr/local/lib/python3.10/dist-packages (from rich->keras>=3.2.0->tensorflow) (3.0.0)\n",
            "Requirement already satisfied: pygments<3.0.0,>=2.13.0 in /usr/local/lib/python3.10/dist-packages (from rich->keras>=3.2.0->tensorflow) (2.16.1)\n",
            "Requirement already satisfied: mdurl~=0.1 in /usr/local/lib/python3.10/dist-packages (from markdown-it-py>=2.2.0->rich->keras>=3.2.0->tensorflow) (0.1.2)\n"
          ]
        }
      ]
    },
    {
      "cell_type": "code",
      "execution_count": 34,
      "id": "ff542955-a065-4e19-ab25-7c5fb6420ba4",
      "metadata": {
        "id": "ff542955-a065-4e19-ab25-7c5fb6420ba4"
      },
      "outputs": [],
      "source": [
        "import pandas as pd\n",
        "from sklearn.model_selection import train_test_split\n",
        "from sklearn.preprocessing import StandardScaler\n",
        "from sklearn.ensemble import RandomForestClassifier\n",
        "from sklearn.svm import SVC\n",
        "from sklearn.metrics import classification_report, accuracy_score\n",
        "import tensorflow as tf\n",
        "from tensorflow.keras.models import Sequential\n",
        "from tensorflow.keras.layers import Dense\n",
        "from sklearn.model_selection import cross_val_score, KFold\n",
        "import numpy as np\n",
        "import matplotlib.pyplot as plt\n",
        "\n",
        "\n",
        "\n"
      ]
    },
    {
      "cell_type": "markdown",
      "id": "dbecb907-85a0-4574-8c40-ab1c054cb970",
      "metadata": {
        "id": "dbecb907-85a0-4574-8c40-ab1c054cb970"
      },
      "source": [
        "## Load and Inspect the Dataset\n",
        "\n",
        "Next, we load the dataset and inspect it to understand its structure. We will check the first few rows, column names, and basic statistics, and also identify any missing values.\n"
      ]
    },
    {
      "cell_type": "code",
      "execution_count": 35,
      "id": "a99436cf-52a5-43a0-8449-c550bd2e460f",
      "metadata": {
        "scrolled": true,
        "colab": {
          "base_uri": "https://localhost:8080/",
          "height": 1183
        },
        "id": "a99436cf-52a5-43a0-8449-c550bd2e460f",
        "outputId": "1f507322-dfdb-415a-c419-e544d528c1f2"
      },
      "outputs": [
        {
          "output_type": "display_data",
          "data": {
            "text/plain": [
              "<IPython.core.display.HTML object>"
            ],
            "text/html": [
              "\n",
              "     <input type=\"file\" id=\"files-908fea8f-297a-44f6-a471-fc0723589d60\" name=\"files[]\" multiple disabled\n",
              "        style=\"border:none\" />\n",
              "     <output id=\"result-908fea8f-297a-44f6-a471-fc0723589d60\">\n",
              "      Upload widget is only available when the cell has been executed in the\n",
              "      current browser session. Please rerun this cell to enable.\n",
              "      </output>\n",
              "      <script>// Copyright 2017 Google LLC\n",
              "//\n",
              "// Licensed under the Apache License, Version 2.0 (the \"License\");\n",
              "// you may not use this file except in compliance with the License.\n",
              "// You may obtain a copy of the License at\n",
              "//\n",
              "//      http://www.apache.org/licenses/LICENSE-2.0\n",
              "//\n",
              "// Unless required by applicable law or agreed to in writing, software\n",
              "// distributed under the License is distributed on an \"AS IS\" BASIS,\n",
              "// WITHOUT WARRANTIES OR CONDITIONS OF ANY KIND, either express or implied.\n",
              "// See the License for the specific language governing permissions and\n",
              "// limitations under the License.\n",
              "\n",
              "/**\n",
              " * @fileoverview Helpers for google.colab Python module.\n",
              " */\n",
              "(function(scope) {\n",
              "function span(text, styleAttributes = {}) {\n",
              "  const element = document.createElement('span');\n",
              "  element.textContent = text;\n",
              "  for (const key of Object.keys(styleAttributes)) {\n",
              "    element.style[key] = styleAttributes[key];\n",
              "  }\n",
              "  return element;\n",
              "}\n",
              "\n",
              "// Max number of bytes which will be uploaded at a time.\n",
              "const MAX_PAYLOAD_SIZE = 100 * 1024;\n",
              "\n",
              "function _uploadFiles(inputId, outputId) {\n",
              "  const steps = uploadFilesStep(inputId, outputId);\n",
              "  const outputElement = document.getElementById(outputId);\n",
              "  // Cache steps on the outputElement to make it available for the next call\n",
              "  // to uploadFilesContinue from Python.\n",
              "  outputElement.steps = steps;\n",
              "\n",
              "  return _uploadFilesContinue(outputId);\n",
              "}\n",
              "\n",
              "// This is roughly an async generator (not supported in the browser yet),\n",
              "// where there are multiple asynchronous steps and the Python side is going\n",
              "// to poll for completion of each step.\n",
              "// This uses a Promise to block the python side on completion of each step,\n",
              "// then passes the result of the previous step as the input to the next step.\n",
              "function _uploadFilesContinue(outputId) {\n",
              "  const outputElement = document.getElementById(outputId);\n",
              "  const steps = outputElement.steps;\n",
              "\n",
              "  const next = steps.next(outputElement.lastPromiseValue);\n",
              "  return Promise.resolve(next.value.promise).then((value) => {\n",
              "    // Cache the last promise value to make it available to the next\n",
              "    // step of the generator.\n",
              "    outputElement.lastPromiseValue = value;\n",
              "    return next.value.response;\n",
              "  });\n",
              "}\n",
              "\n",
              "/**\n",
              " * Generator function which is called between each async step of the upload\n",
              " * process.\n",
              " * @param {string} inputId Element ID of the input file picker element.\n",
              " * @param {string} outputId Element ID of the output display.\n",
              " * @return {!Iterable<!Object>} Iterable of next steps.\n",
              " */\n",
              "function* uploadFilesStep(inputId, outputId) {\n",
              "  const inputElement = document.getElementById(inputId);\n",
              "  inputElement.disabled = false;\n",
              "\n",
              "  const outputElement = document.getElementById(outputId);\n",
              "  outputElement.innerHTML = '';\n",
              "\n",
              "  const pickedPromise = new Promise((resolve) => {\n",
              "    inputElement.addEventListener('change', (e) => {\n",
              "      resolve(e.target.files);\n",
              "    });\n",
              "  });\n",
              "\n",
              "  const cancel = document.createElement('button');\n",
              "  inputElement.parentElement.appendChild(cancel);\n",
              "  cancel.textContent = 'Cancel upload';\n",
              "  const cancelPromise = new Promise((resolve) => {\n",
              "    cancel.onclick = () => {\n",
              "      resolve(null);\n",
              "    };\n",
              "  });\n",
              "\n",
              "  // Wait for the user to pick the files.\n",
              "  const files = yield {\n",
              "    promise: Promise.race([pickedPromise, cancelPromise]),\n",
              "    response: {\n",
              "      action: 'starting',\n",
              "    }\n",
              "  };\n",
              "\n",
              "  cancel.remove();\n",
              "\n",
              "  // Disable the input element since further picks are not allowed.\n",
              "  inputElement.disabled = true;\n",
              "\n",
              "  if (!files) {\n",
              "    return {\n",
              "      response: {\n",
              "        action: 'complete',\n",
              "      }\n",
              "    };\n",
              "  }\n",
              "\n",
              "  for (const file of files) {\n",
              "    const li = document.createElement('li');\n",
              "    li.append(span(file.name, {fontWeight: 'bold'}));\n",
              "    li.append(span(\n",
              "        `(${file.type || 'n/a'}) - ${file.size} bytes, ` +\n",
              "        `last modified: ${\n",
              "            file.lastModifiedDate ? file.lastModifiedDate.toLocaleDateString() :\n",
              "                                    'n/a'} - `));\n",
              "    const percent = span('0% done');\n",
              "    li.appendChild(percent);\n",
              "\n",
              "    outputElement.appendChild(li);\n",
              "\n",
              "    const fileDataPromise = new Promise((resolve) => {\n",
              "      const reader = new FileReader();\n",
              "      reader.onload = (e) => {\n",
              "        resolve(e.target.result);\n",
              "      };\n",
              "      reader.readAsArrayBuffer(file);\n",
              "    });\n",
              "    // Wait for the data to be ready.\n",
              "    let fileData = yield {\n",
              "      promise: fileDataPromise,\n",
              "      response: {\n",
              "        action: 'continue',\n",
              "      }\n",
              "    };\n",
              "\n",
              "    // Use a chunked sending to avoid message size limits. See b/62115660.\n",
              "    let position = 0;\n",
              "    do {\n",
              "      const length = Math.min(fileData.byteLength - position, MAX_PAYLOAD_SIZE);\n",
              "      const chunk = new Uint8Array(fileData, position, length);\n",
              "      position += length;\n",
              "\n",
              "      const base64 = btoa(String.fromCharCode.apply(null, chunk));\n",
              "      yield {\n",
              "        response: {\n",
              "          action: 'append',\n",
              "          file: file.name,\n",
              "          data: base64,\n",
              "        },\n",
              "      };\n",
              "\n",
              "      let percentDone = fileData.byteLength === 0 ?\n",
              "          100 :\n",
              "          Math.round((position / fileData.byteLength) * 100);\n",
              "      percent.textContent = `${percentDone}% done`;\n",
              "\n",
              "    } while (position < fileData.byteLength);\n",
              "  }\n",
              "\n",
              "  // All done.\n",
              "  yield {\n",
              "    response: {\n",
              "      action: 'complete',\n",
              "    }\n",
              "  };\n",
              "}\n",
              "\n",
              "scope.google = scope.google || {};\n",
              "scope.google.colab = scope.google.colab || {};\n",
              "scope.google.colab._files = {\n",
              "  _uploadFiles,\n",
              "  _uploadFilesContinue,\n",
              "};\n",
              "})(self);\n",
              "</script> "
            ]
          },
          "metadata": {}
        },
        {
          "output_type": "stream",
          "name": "stdout",
          "text": [
            "Saving diabetes.csv to diabetes (2).csv\n",
            "First few rows of the dataset:\n",
            "   Pregnancies  Glucose  BloodPressure  SkinThickness  Insulin   BMI  \\\n",
            "0            6      148             72             35        0  33.6   \n",
            "1            1       85             66             29        0  26.6   \n",
            "2            8      183             64              0        0  23.3   \n",
            "3            1       89             66             23       94  28.1   \n",
            "4            0      137             40             35      168  43.1   \n",
            "\n",
            "   DiabetesPedigreeFunction  Age  Outcome  \n",
            "0                     0.627   50        1  \n",
            "1                     0.351   31        0  \n",
            "2                     0.672   32        1  \n",
            "3                     0.167   21        0  \n",
            "4                     2.288   33        1  \n",
            "\n",
            "Column names:\n",
            "Index(['Pregnancies', 'Glucose', 'BloodPressure', 'SkinThickness', 'Insulin',\n",
            "       'BMI', 'DiabetesPedigreeFunction', 'Age', 'Outcome'],\n",
            "      dtype='object')\n",
            "\n",
            "Basic statistics:\n",
            "       Pregnancies     Glucose  BloodPressure  SkinThickness     Insulin  \\\n",
            "count   768.000000  768.000000     768.000000     768.000000  768.000000   \n",
            "mean      3.845052  120.894531      69.105469      20.536458   79.799479   \n",
            "std       3.369578   31.972618      19.355807      15.952218  115.244002   \n",
            "min       0.000000    0.000000       0.000000       0.000000    0.000000   \n",
            "25%       1.000000   99.000000      62.000000       0.000000    0.000000   \n",
            "50%       3.000000  117.000000      72.000000      23.000000   30.500000   \n",
            "75%       6.000000  140.250000      80.000000      32.000000  127.250000   \n",
            "max      17.000000  199.000000     122.000000      99.000000  846.000000   \n",
            "\n",
            "              BMI  DiabetesPedigreeFunction         Age     Outcome  \n",
            "count  768.000000                768.000000  768.000000  768.000000  \n",
            "mean    31.992578                  0.471876   33.240885    0.348958  \n",
            "std      7.884160                  0.331329   11.760232    0.476951  \n",
            "min      0.000000                  0.078000   21.000000    0.000000  \n",
            "25%     27.300000                  0.243750   24.000000    0.000000  \n",
            "50%     32.000000                  0.372500   29.000000    0.000000  \n",
            "75%     36.600000                  0.626250   41.000000    1.000000  \n",
            "max     67.100000                  2.420000   81.000000    1.000000  \n",
            "\n",
            "Missing values per column:\n",
            "Pregnancies                 0\n",
            "Glucose                     0\n",
            "BloodPressure               0\n",
            "SkinThickness               0\n",
            "Insulin                     0\n",
            "BMI                         0\n",
            "DiabetesPedigreeFunction    0\n",
            "Age                         0\n",
            "Outcome                     0\n",
            "dtype: int64\n",
            "\n",
            "Data types of each column:\n",
            "Pregnancies                   int64\n",
            "Glucose                       int64\n",
            "BloodPressure                 int64\n",
            "SkinThickness                 int64\n",
            "Insulin                       int64\n",
            "BMI                         float64\n",
            "DiabetesPedigreeFunction    float64\n",
            "Age                           int64\n",
            "Outcome                       int64\n",
            "dtype: object\n"
          ]
        }
      ],
      "source": [
        "from google.colab import files\n",
        "uploaded = files.upload()\n",
        "\n",
        "data = pd.read_csv(next(iter(uploaded.keys())))\n",
        "\n",
        "print(\"First few rows of the dataset:\")\n",
        "print(data.head())\n",
        "\n",
        "print(\"\\nColumn names:\")\n",
        "print(data.columns)\n",
        "\n",
        "print(\"\\nBasic statistics:\")\n",
        "print(data.describe())\n",
        "\n",
        "print(\"\\nMissing values per column:\")\n",
        "print(data.isnull().sum())\n",
        "\n",
        "print(\"\\nData types of each column:\")\n",
        "print(data.dtypes)\n"
      ]
    },
    {
      "cell_type": "markdown",
      "id": "0dd414a9-87f2-4afe-b9ce-e6578fb36c53",
      "metadata": {
        "id": "0dd414a9-87f2-4afe-b9ce-e6578fb36c53"
      },
      "source": [
        "## Preprocess the Data\n",
        "\n",
        "Before building the model, we need to preprocess the data. This involves splitting the dataset into features and target variables, and then into training and testing sets.\n"
      ]
    },
    {
      "cell_type": "code",
      "execution_count": 63,
      "id": "3ba24b74-ec24-4626-ab46-a224d12bf0d3",
      "metadata": {
        "colab": {
          "base_uri": "https://localhost:8080/"
        },
        "id": "3ba24b74-ec24-4626-ab46-a224d12bf0d3",
        "outputId": "7a9514e4-1f07-4f61-d706-a1eb6b961b84"
      },
      "outputs": [
        {
          "output_type": "stream",
          "name": "stdout",
          "text": [
            "   Pregnancies  Glucose  BloodPressure  SkinThickness  Insulin   BMI  \\\n",
            "0            6      148             72             35        0  33.6   \n",
            "1            1       85             66             29        0  26.6   \n",
            "2            8      183             64              0        0  23.3   \n",
            "3            1       89             66             23       94  28.1   \n",
            "4            0      137             40             35      168  43.1   \n",
            "\n",
            "   DiabetesPedigreeFunction  Age  Outcome  \n",
            "0                     0.627   50        1  \n",
            "1                     0.351   31        0  \n",
            "2                     0.672   32        1  \n",
            "3                     0.167   21        0  \n",
            "4                     2.288   33        1  \n",
            "       Pregnancies     Glucose  BloodPressure  SkinThickness     Insulin  \\\n",
            "count   768.000000  768.000000     768.000000     768.000000  768.000000   \n",
            "mean      3.845052  120.894531      69.105469      20.536458   79.799479   \n",
            "std       3.369578   31.972618      19.355807      15.952218  115.244002   \n",
            "min       0.000000    0.000000       0.000000       0.000000    0.000000   \n",
            "25%       1.000000   99.000000      62.000000       0.000000    0.000000   \n",
            "50%       3.000000  117.000000      72.000000      23.000000   30.500000   \n",
            "75%       6.000000  140.250000      80.000000      32.000000  127.250000   \n",
            "max      17.000000  199.000000     122.000000      99.000000  846.000000   \n",
            "\n",
            "              BMI  DiabetesPedigreeFunction         Age     Outcome  \n",
            "count  768.000000                768.000000  768.000000  768.000000  \n",
            "mean    31.992578                  0.471876   33.240885    0.348958  \n",
            "std      7.884160                  0.331329   11.760232    0.476951  \n",
            "min      0.000000                  0.078000   21.000000    0.000000  \n",
            "25%     27.300000                  0.243750   24.000000    0.000000  \n",
            "50%     32.000000                  0.372500   29.000000    0.000000  \n",
            "75%     36.600000                  0.626250   41.000000    1.000000  \n",
            "max     67.100000                  2.420000   81.000000    1.000000  \n"
          ]
        }
      ],
      "source": [
        "import pandas as pd\n",
        "\n",
        "# Load dataset\n",
        "df = pd.read_csv('diabetes.csv')\n",
        "\n",
        "# Inspect the first few rows of the dataset\n",
        "print(df.head())\n",
        "\n",
        "# Display basic statistics of the dataset\n",
        "print(df.describe())\n",
        "\n",
        "# Check for missing values and handle them if necessary\n",
        "data.isnull().sum()\n",
        "\n",
        "X = data.drop('Outcome', axis=1)\n",
        "y = data['Outcome']\n",
        "\n",
        "X_train, X_test, y_train, y_test = train_test_split(X, y, test_size=0.2, random_state=42)\n",
        "\n",
        "scaler = StandardScaler()\n",
        "X_train = scaler.fit_transform(X_train)\n",
        "X_test = scaler.transform(X_test)\n",
        "\n",
        "\n"
      ]
    },
    {
      "cell_type": "markdown",
      "id": "4e5d2a65-c75d-4a90-9fab-1d514701c68c",
      "metadata": {
        "id": "4e5d2a65-c75d-4a90-9fab-1d514701c68c"
      },
      "source": [
        "## Build and Train the RandomForestClassifier\n",
        "\n",
        "We will now build and train a Random Forest classifier using the training data.\n"
      ]
    },
    {
      "cell_type": "code",
      "execution_count": 43,
      "id": "809ac4e5-9461-49c8-869c-35d429fbbf11",
      "metadata": {
        "colab": {
          "base_uri": "https://localhost:8080/",
          "height": 0
        },
        "id": "809ac4e5-9461-49c8-869c-35d429fbbf11",
        "outputId": "d8068780-334f-44c7-e612-b106d70c1793"
      },
      "outputs": [
        {
          "output_type": "stream",
          "name": "stdout",
          "text": [
            "Random Forest Scores: [0.7012987  0.80519481 0.72727273 0.66233766 0.74025974 0.80519481\n",
            " 0.79220779 0.84415584 0.69736842 0.80263158]\n"
          ]
        }
      ],
      "source": [
        "rf_model = RandomForestClassifier(random_state=42)\n",
        "rf_scores = cross_val_score(rf_model, X, y, cv=10)\n",
        "print(\"Random Forest Scores:\", rf_scores)\n",
        "\n",
        "\n",
        "\n"
      ]
    },
    {
      "cell_type": "markdown",
      "id": "d73c69cb-9197-4101-8df9-c631f78f117e",
      "metadata": {
        "id": "d73c69cb-9197-4101-8df9-c631f78f117e"
      },
      "source": [
        "Deep Learning Algorithm (Neural Network)\n",
        "\n"
      ]
    },
    {
      "cell_type": "code",
      "execution_count": 44,
      "id": "27ceb54a-a84c-4c43-a72e-d7089d942de7",
      "metadata": {
        "colab": {
          "base_uri": "https://localhost:8080/",
          "height": 0
        },
        "id": "27ceb54a-a84c-4c43-a72e-d7089d942de7",
        "outputId": "ec1d08e3-7f85-48ed-bf01-8f09e217720d"
      },
      "outputs": [
        {
          "output_type": "stream",
          "name": "stdout",
          "text": [
            "Neural Network Scores: [0.70129871 0.64935064 0.55844158 0.67532468 0.58441556 0.62337661\n",
            " 0.72727275 0.59740257 0.71052629 0.59210527]\n"
          ]
        }
      ],
      "source": [
        "def create_model():\n",
        "    model = Sequential([\n",
        "        Dense(64, input_dim=X.shape[1], activation='relu'),\n",
        "        Dense(32, activation='relu'),\n",
        "        Dense(1, activation='sigmoid')\n",
        "    ])\n",
        "    model.compile(optimizer='adam', loss='binary_crossentropy', metrics=['accuracy'])\n",
        "    return model\n",
        "\n",
        "def cross_val_score_keras(model_fn, X, y, epochs=10, batch_size=32, cv=10):\n",
        "    scores = []\n",
        "    kfold = KFold(n_splits=cv, shuffle=True, random_state=42)\n",
        "    for train_index, val_index in kfold.split(X):\n",
        "        model = model_fn()\n",
        "        model.fit(X[train_index], y[train_index], epochs=epochs, batch_size=batch_size, verbose=0)\n",
        "        score = model.evaluate(X[val_index], y[val_index], verbose=0)[1]\n",
        "        scores.append(score)\n",
        "    return np.array(scores)\n",
        "\n",
        "nn_scores = cross_val_score_keras(create_model, X.values, y.values, epochs=10, batch_size=32, cv=10)\n",
        "print(\"Neural Network Scores:\", nn_scores)\n"
      ]
    },
    {
      "cell_type": "markdown",
      "source": [
        "\n",
        "Plot Training and Validation Accuracy\n"
      ],
      "metadata": {
        "id": "sUwOhd60le9M"
      },
      "id": "sUwOhd60le9M"
    },
    {
      "cell_type": "code",
      "source": [
        "epochs = range(1, 11)\n",
        "\n",
        "plt.figure(figsize=(12, 4))\n",
        "\n",
        "plt.subplot(1, 2, 1)\n",
        "plt.plot(epochs, nn_scores, 'bo', label='Training accuracy')\n",
        "plt.title('Training accuracy')\n",
        "plt.legend()\n",
        "\n",
        "plt.subplot(1, 2, 2)\n",
        "plt.plot(epochs, [1 - score for score in nn_scores], 'ro', label='Validation accuracy')\n",
        "plt.title('Validation accuracy')\n",
        "plt.legend()\n",
        "\n",
        "plt.show()\n"
      ],
      "metadata": {
        "colab": {
          "base_uri": "https://localhost:8080/",
          "height": 391
        },
        "id": "1gXtEkvNlcaG",
        "outputId": "c27797a2-9432-4152-876b-689cc7da0f2d"
      },
      "id": "1gXtEkvNlcaG",
      "execution_count": 45,
      "outputs": [
        {
          "output_type": "display_data",
          "data": {
            "text/plain": [
              "<Figure size 1200x400 with 2 Axes>"
            ],
            "image/png": "[encoded data removed]"
          },
          "metadata": {}
        }
      ]
    },
    {
      "cell_type": "markdown",
      "source": [
        "### Plot Training and Validation Accuracy\n",
        "\n",
        "The plots above show the training and validation accuracy for each epoch during the neural network training process.\n",
        "\n",
        "- The **Training Accuracy** plot demonstrates how well the model is learning the training data over the epochs.\n",
        "- The **Validation Accuracy** plot illustrates how well the model is generalizing to unseen data during each epoch.\n",
        "\n",
        "By comparing these two plots, we can identify if the model is overfitting or underfitting. Ideally, both training and validation accuracies should improve and stabilize as training progresses.\n",
        "\n"
      ],
      "metadata": {
        "id": "K2XFMy5n_y8Y"
      },
      "id": "K2XFMy5n_y8Y"
    },
    {
      "cell_type": "markdown",
      "id": "a1f230c6-8944-4827-aa32-a35eacdd53ae",
      "metadata": {
        "id": "a1f230c6-8944-4827-aa32-a35eacdd53ae"
      },
      "source": [
        "Implement SVM\n"
      ]
    },
    {
      "cell_type": "code",
      "execution_count": 46,
      "id": "d0085806-2a17-403b-a084-46ffe4b80f35",
      "metadata": {
        "colab": {
          "base_uri": "https://localhost:8080/",
          "height": 0
        },
        "id": "d0085806-2a17-403b-a084-46ffe4b80f35",
        "outputId": "5a5d54e9-0140-46ee-d904-abd051b4f6fb"
      },
      "outputs": [
        {
          "output_type": "stream",
          "name": "stdout",
          "text": [
            "SVM Scores: [0.7012987  0.76623377 0.79220779 0.74025974 0.74025974 0.76623377\n",
            " 0.80519481 0.79220779 0.75       0.81578947]\n"
          ]
        }
      ],
      "source": [
        "svm_model = SVC(kernel='linear')\n",
        "svm_scores = cross_val_score(svm_model, X, y, cv=10)\n",
        "print(\"SVM Scores:\", svm_scores)\n"
      ]
    },
    {
      "cell_type": "markdown",
      "source": [],
      "metadata": {
        "id": "QqMRP-ai3EMH"
      },
      "id": "QqMRP-ai3EMH"
    },
    {
      "cell_type": "markdown",
      "source": [
        "LSTM\n",
        "\n"
      ],
      "metadata": {
        "id": "zFFbBbtfXmnt"
      },
      "id": "zFFbBbtfXmnt"
    },
    {
      "cell_type": "code",
      "source": [
        "import numpy as np\n",
        "import pandas as pd\n",
        "import tensorflow as tf\n",
        "from tensorflow.keras.models import Sequential\n",
        "from tensorflow.keras.layers import LSTM, Dense\n",
        "from sklearn.model_selection import KFold\n",
        "from sklearn.preprocessing import StandardScaler\n",
        "\n",
        "# Assuming df is your DataFrame containing the dataset\n",
        "X = df.drop(columns=['Outcome']).values\n",
        "y = df['Outcome'].values\n",
        "\n",
        "# Normalize the features\n",
        "scaler = StandardScaler()\n",
        "X = scaler.fit_transform(X)\n",
        "\n",
        "def create_lstm_model(input_shape):\n",
        "    model = Sequential()\n",
        "    model.add(LSTM(50, input_shape=input_shape))\n",
        "    model.add(Dense(1, activation='sigmoid'))\n",
        "    model.compile(optimizer='adam', loss='binary_crossentropy', metrics=['accuracy'])\n",
        "    return model\n",
        "\n",
        "# Reshape X to be 3D [samples, timesteps, features]\n",
        "X = X.reshape((X.shape[0], X.shape[1], 1))\n",
        "\n",
        "# LSTM model with 10-fold cross-validation\n",
        "kf = KFold(n_splits=10, shuffle=True, random_state=42)\n",
        "lstm_scores = []\n",
        "for train_index, test_index in kf.split(X):\n",
        "    X_train, X_test = X[train_index], X[test_index]\n",
        "    y_train, y_test = y[train_index], y[test_index]\n",
        "    model = create_lstm_model((X_train.shape[1], 1))\n",
        "    model.fit(X_train, y_train, epochs=50, batch_size=32, verbose=0)\n",
        "    scores = model.evaluate(X_test, y_test, verbose=0)\n",
        "    lstm_scores.append(scores[1])\n",
        "print(\"LSTM 10-fold cross-validation scores:\", lstm_scores)\n",
        "print(\"LSTM average score:\", np.mean(lstm_scores))\n"
      ],
      "metadata": {
        "id": "DAF7JTPqXpfL",
        "outputId": "2ddf585a-70a7-4078-f805-cd409929e64c",
        "colab": {
          "base_uri": "https://localhost:8080/"
        }
      },
      "id": "DAF7JTPqXpfL",
      "execution_count": 65,
      "outputs": [
        {
          "output_type": "stream",
          "name": "stdout",
          "text": [
            "LSTM 10-fold cross-validation scores: [0.6623376607894897, 0.7922077775001526, 0.7402597665786743, 0.7532467246055603, 0.7792207598686218, 0.6623376607894897, 0.8051947951316833, 0.7142857313156128, 0.6842105388641357, 0.75]\n",
            "LSTM average score: 0.7343301415443421\n"
          ]
        }
      ]
    },
    {
      "cell_type": "markdown",
      "source": [
        "Custom Wrapper Function:\n",
        "\n"
      ],
      "metadata": {
        "id": "RavXdUvg3LAx"
      },
      "id": "RavXdUvg3LAx"
    },
    {
      "cell_type": "code",
      "source": [
        "\n",
        "from tensorflow.keras.models import Sequential\n",
        "from tensorflow.keras.layers import Dense\n",
        "from sklearn.base import BaseEstimator, ClassifierMixin\n",
        "\n",
        "class KerasClassifier(BaseEstimator, ClassifierMixin):\n",
        "    def __init__(self, build_fn=None, epochs=10, batch_size=32, verbose=0, **kwargs):\n",
        "        self.build_fn = build_fn\n",
        "        self.epochs = epochs\n",
        "        self.batch_size = batch_size\n",
        "        self.verbose = verbose\n",
        "        self.model_ = None\n",
        "        self.kwargs = kwargs\n",
        "\n",
        "    def fit(self, X, y):\n",
        "        self.model_ = self.build_fn(**self.kwargs)\n",
        "        self.model_.fit(X, y, epochs=self.epochs, batch_size=self.batch_size, verbose=self.verbose)\n",
        "        return self\n",
        "\n",
        "    def predict(self, X):\n",
        "        return (self.model_.predict(X) > 0.5).astype(\"int32\")\n"
      ],
      "metadata": {
        "id": "RlKkNnEs25ZF"
      },
      "execution_count": 57,
      "outputs": [],
      "id": "RlKkNnEs25ZF"
    },
    {
      "cell_type": "markdown",
      "source": [
        "Model Creation:\n",
        "\n"
      ],
      "metadata": {
        "id": "d5M9nSqp3Ppy"
      },
      "id": "d5M9nSqp3Ppy"
    },
    {
      "cell_type": "code",
      "source": [
        "def create_model():\n",
        "    model = Sequential([\n",
        "        Dense(64, input_dim=X.shape[1], activation='relu'),\n",
        "        Dense(32, activation='relu'),\n",
        "        Dense(1, activation='sigmoid')\n",
        "    ])\n",
        "    model.compile(optimizer='adam', loss='binary_crossentropy', metrics=['accuracy'])\n",
        "    return model\n"
      ],
      "metadata": {
        "id": "5bnDxtZe3QlJ"
      },
      "id": "5bnDxtZe3QlJ",
      "execution_count": 58,
      "outputs": []
    },
    {
      "cell_type": "markdown",
      "id": "1c611a77-481d-4c28-a503-98fd811ba4a8",
      "metadata": {
        "id": "1c611a77-481d-4c28-a503-98fd811ba4a8"
      },
      "source": [
        "## Evaluate the Model\n",
        "\n",
        "### Performance Metrics\n",
        "\n",
        "To evaluate our models, we calculate several performance metrics including True Positives (TP), True Negatives (TN), False Positives (FP), and False Negatives (FN). Additionally, we calculate the False Positive Rate (FPR) and False Negative Rate (FNR) to get a deeper understanding of the model's performance.\n",
        "\n",
        "The formulas for these metrics are as follows:\n",
        "\n",
        "- **True Positives (TP):** Number of correctly predicted positive cases.\n",
        "- **True Negatives (TN):** Number of correctly predicted negative cases.\n",
        "- **False Positives (FP):** Number of incorrectly predicted positive cases.\n",
        "- **False Negatives (FN):** Number of incorrectly predicted negative cases.\n",
        "\n",
        "The False Positive Rate (FPR) and False Negative Rate (FNR) are calculated as:\n",
        "\n",
        "- **FPR = FP / (FP + TN)**\n",
        "- **FNR = FN / (FN + TP)**\n",
        "\n",
        "We also provide the accuracy score and classification report for a comprehensive evaluation.\n",
        "\n",
        "The performance metrics for the Random Forest and Neural Network models are calculated and displayed below:\n",
        "\n",
        "#### Random Forest Performance Metrics\n",
        "```python\n",
        "# Display Random Forest performance metrics here\n",
        "# True Positives (TP): 34\n",
        "# True Negatives (TN): 77\n",
        "# False Positives (FP): 22\n",
        "# False Negatives (FN): 21\n",
        "# False Positive Rate (FPR): 0.2222\n",
        "# False Negative Rate (FNR): 0.3818\n",
        "# Accuracy: 0.7208\n",
        "# Classification Report:\n",
        "#               precision    recall  f1-score   support\n",
        "\n",
        "#            0       0.79      0.78      0.78        99\n",
        "#            1       0.61      0.62      0.61        55\n",
        "\n",
        "#     accuracy                           0.72       154\n",
        "#    macro avg       0.70      0.70      0.70       154\n",
        "# weighted avg       0.72      0.72      0.72       154\n",
        "\n"
      ]
    },
    {
      "cell_type": "code",
      "execution_count": 59,
      "id": "88f6c1d0-1555-4e86-9f53-19a2457f8603",
      "metadata": {
        "colab": {
          "base_uri": "https://localhost:8080/",
          "height": 0
        },
        "collapsed": true,
        "id": "88f6c1d0-1555-4e86-9f53-19a2457f8603",
        "outputId": "6174836a-2984-44fb-884c-7067ef58d51d"
      },
      "outputs": [
        {
          "output_type": "stream",
          "name": "stderr",
          "text": [
            "WARNING:tensorflow:AutoGraph could not transform <function Model.make_predict_function.<locals>.predict_function at 0x7c5673dd0ee0> and will run it as-is.\n",
            "Cause: Unable to locate the source code of <function Model.make_predict_function.<locals>.predict_function at 0x7c5673dd0ee0>. Note that functions defined in certain environments, like the interactive Python shell, do not expose their source code. If that is the case, you should define them in a .py source file. If you are certain the code is graph-compatible, wrap the call using @tf.autograph.experimental.do_not_convert. Original error: could not get source code\n",
            "To silence this warning, decorate the function with @tf.autograph.experimental.do_not_convert\n"
          ]
        },
        {
          "output_type": "stream",
          "name": "stdout",
          "text": [
            "WARNING: AutoGraph could not transform <function Model.make_predict_function.<locals>.predict_function at 0x7c5673dd0ee0> and will run it as-is.\n",
            "Cause: Unable to locate the source code of <function Model.make_predict_function.<locals>.predict_function at 0x7c5673dd0ee0>. Note that functions defined in certain environments, like the interactive Python shell, do not expose their source code. If that is the case, you should define them in a .py source file. If you are certain the code is graph-compatible, wrap the call using @tf.autograph.experimental.do_not_convert. Original error: could not get source code\n",
            "To silence this warning, decorate the function with @tf.autograph.experimental.do_not_convert\n",
            "5/5 [==============================] - 0s 3ms/step\n",
            "Performance Metrics for Random Forest:\n",
            "True Positives (TP): 34\n",
            "True Negatives (TN): 77\n",
            "False Positives (FP): 22\n",
            "False Negatives (FN): 21\n",
            "False Positive Rate (FPR): 0.2222222222222222\n",
            "False Negative Rate (FNR): 0.38181818181818183\n",
            "Accuracy: 0.7207792207792207\n",
            "Classification Report:\n",
            "              precision    recall  f1-score   support\n",
            "\n",
            "           0       0.79      0.78      0.78        99\n",
            "           1       0.61      0.62      0.61        55\n",
            "\n",
            "    accuracy                           0.72       154\n",
            "   macro avg       0.70      0.70      0.70       154\n",
            "weighted avg       0.72      0.72      0.72       154\n",
            "\n",
            "\n",
            "Performance Metrics for Neural Network:\n",
            "True Positives (TP): 37\n",
            "True Negatives (TN): 82\n",
            "False Positives (FP): 17\n",
            "False Negatives (FN): 18\n",
            "False Positive Rate (FPR): 0.1717171717171717\n",
            "False Negative Rate (FNR): 0.32727272727272727\n",
            "Accuracy: 0.7727272727272727\n",
            "Classification Report:\n",
            "              precision    recall  f1-score   support\n",
            "\n",
            "           0       0.82      0.83      0.82        99\n",
            "           1       0.69      0.67      0.68        55\n",
            "\n",
            "    accuracy                           0.77       154\n",
            "   macro avg       0.75      0.75      0.75       154\n",
            "weighted avg       0.77      0.77      0.77       154\n",
            "\n"
          ]
        }
      ],
      "source": [
        "from sklearn.ensemble import RandomForestClassifier\n",
        "from sklearn.metrics import confusion_matrix, accuracy_score, classification_report\n",
        "\n",
        "# Load dataset\n",
        "df = pd.read_csv('diabetes.csv')\n",
        "X = df.drop('Outcome', axis=1)\n",
        "y = df['Outcome']\n",
        "\n",
        "X_train, X_test, y_train, y_test = train_test_split(X, y, test_size=0.2, random_state=42)\n",
        "scaler = StandardScaler()\n",
        "X_train = scaler.fit_transform(X_train)\n",
        "X_test = scaler.transform(X_test)\n",
        "\n",
        "rf_model = RandomForestClassifier(random_state=42)\n",
        "rf_model.fit(X_train, y_train)\n",
        "\n",
        "nn_model = KerasClassifier(build_fn=create_model, epochs=10, batch_size=32, verbose=0)\n",
        "nn_model.fit(X_train, y_train)\n",
        "\n",
        "y_pred_rf = rf_model.predict(X_test)\n",
        "y_pred_nn = nn_model.predict(X_test)\n",
        "\n",
        "def calculate_performance_metrics(y_true, y_pred):\n",
        "    tn, fp, fn, tp = confusion_matrix(y_true, y_pred).ravel()\n",
        "    accuracy = accuracy_score(y_true, y_pred)\n",
        "    report = classification_report(y_true, y_pred)\n",
        "\n",
        "    fpr = fp / (fp + tn)\n",
        "    fnr = fn / (fn + tp)\n",
        "\n",
        "    print(f\"True Positives (TP): {tp}\")\n",
        "    print(f\"True Negatives (TN): {tn}\")\n",
        "    print(f\"False Positives (FP): {fp}\")\n",
        "    print(f\"False Negatives (FN): {fn}\")\n",
        "    print(f\"False Positive Rate (FPR): {fpr}\")\n",
        "    print(f\"False Negative Rate (FNR): {fnr}\")\n",
        "    print(f\"Accuracy: {accuracy}\")\n",
        "    print(f\"Classification Report:\\n{report}\")\n",
        "\n",
        "print(\"Performance Metrics for Random Forest:\")\n",
        "calculate_performance_metrics(y_test, y_pred_rf)\n",
        "\n",
        "print(\"\\nPerformance Metrics for Neural Network:\")\n",
        "calculate_performance_metrics(y_test, y_pred_nn)\n"
      ]
    },
    {
      "cell_type": "markdown",
      "source": [
        "### Performance Metrics\n",
        "\n",
        "To evaluate our models, we calculate several performance metrics including True Positives (TP), True Negatives (TN), False Positives (FP), and False Negatives (FN). Additionally, we calculate the False Positive Rate (FPR) and False Negative Rate (FNR) to get a deeper understanding of the model's performance.\n",
        "\n",
        "The formulas for these metrics are as follows:\n",
        "\n",
        "- **True Positives (TP):** Number of correctly predicted positive cases.\n",
        "- **True Negatives (TN):** Number of correctly predicted negative cases.\n",
        "- **False Positives (FP):** Number of incorrectly predicted positive cases.\n",
        "- **False Negatives (FN):** Number of incorrectly predicted negative cases.\n",
        "\n",
        "The False Positive Rate (FPR) and False Negative Rate (FNR) are calculated as:\n",
        "\n",
        "- **FPR = FP / (FP + TN)**\n",
        "- **FNR = FN / (FN + TP)**\n",
        "\n",
        "We also provide the accuracy score and classification report for a comprehensive evaluation.\n",
        "\n",
        "The performance metrics for the Random Forest and Neural Network models are calculated and displayed below:\n",
        "\n",
        "#### Random Forest Performance Metrics\n",
        "<code>\n",
        "\\```python\n",
        "# Display Random Forest performance metrics here\n",
        "\\```\n",
        "</code>\n",
        "\n",
        "#### Neural Network Performance Metrics\n",
        "<code>\n",
        "\\```python\n",
        "# Display Neural Network performance metrics here\n",
        "\\```\n",
        "</code>\n",
        "\n",
        "These metrics help us understand how well our models are performing in terms of both accuracy and error rates.\n"
      ],
      "metadata": {
        "id": "u2X2DbvtnTP_"
      },
      "id": "u2X2DbvtnTP_"
    },
    {
      "cell_type": "code",
      "source": [
        "!pip install keras-tuner\n"
      ],
      "metadata": {
        "colab": {
          "base_uri": "https://localhost:8080/",
          "height": 0
        },
        "collapsed": true,
        "id": "eAt51wNtpJCl",
        "outputId": "2fbfde29-81a3-4662-9ec9-1d404e643299"
      },
      "id": "eAt51wNtpJCl",
      "execution_count": 37,
      "outputs": [
        {
          "output_type": "stream",
          "name": "stdout",
          "text": [
            "Requirement already satisfied: keras-tuner in /usr/local/lib/python3.10/dist-packages (1.4.7)\n",
            "Requirement already satisfied: keras in /usr/local/lib/python3.10/dist-packages (from keras-tuner) (3.4.1)\n",
            "Requirement already satisfied: packaging in /usr/local/lib/python3.10/dist-packages (from keras-tuner) (24.1)\n",
            "Requirement already satisfied: requests in /usr/local/lib/python3.10/dist-packages (from keras-tuner) (2.31.0)\n",
            "Requirement already satisfied: kt-legacy in /usr/local/lib/python3.10/dist-packages (from keras-tuner) (1.0.5)\n",
            "Requirement already satisfied: absl-py in /usr/local/lib/python3.10/dist-packages (from keras->keras-tuner) (1.4.0)\n",
            "Requirement already satisfied: numpy in /usr/local/lib/python3.10/dist-packages (from keras->keras-tuner) (1.25.2)\n",
            "Requirement already satisfied: rich in /usr/local/lib/python3.10/dist-packages (from keras->keras-tuner) (13.7.1)\n",
            "Requirement already satisfied: namex in /usr/local/lib/python3.10/dist-packages (from keras->keras-tuner) (0.0.8)\n",
            "Requirement already satisfied: h5py in /usr/local/lib/python3.10/dist-packages (from keras->keras-tuner) (3.11.0)\n",
            "Requirement already satisfied: optree in /usr/local/lib/python3.10/dist-packages (from keras->keras-tuner) (0.12.1)\n",
            "Requirement already satisfied: ml-dtypes in /usr/local/lib/python3.10/dist-packages (from keras->keras-tuner) (0.4.0)\n",
            "Requirement already satisfied: charset-normalizer<4,>=2 in /usr/local/lib/python3.10/dist-packages (from requests->keras-tuner) (3.3.2)\n",
            "Requirement already satisfied: idna<4,>=2.5 in /usr/local/lib/python3.10/dist-packages (from requests->keras-tuner) (3.7)\n",
            "Requirement already satisfied: urllib3<3,>=1.21.1 in /usr/local/lib/python3.10/dist-packages (from requests->keras-tuner) (2.0.7)\n",
            "Requirement already satisfied: certifi>=2017.4.17 in /usr/local/lib/python3.10/dist-packages (from requests->keras-tuner) (2024.7.4)\n",
            "Requirement already satisfied: typing-extensions>=4.5.0 in /usr/local/lib/python3.10/dist-packages (from optree->keras->keras-tuner) (4.12.2)\n",
            "Requirement already satisfied: markdown-it-py>=2.2.0 in /usr/local/lib/python3.10/dist-packages (from rich->keras->keras-tuner) (3.0.0)\n",
            "Requirement already satisfied: pygments<3.0.0,>=2.13.0 in /usr/local/lib/python3.10/dist-packages (from rich->keras->keras-tuner) (2.16.1)\n",
            "Requirement already satisfied: mdurl~=0.1 in /usr/local/lib/python3.10/dist-packages (from markdown-it-py>=2.2.0->rich->keras->keras-tuner) (0.1.2)\n"
          ]
        }
      ]
    },
    {
      "cell_type": "code",
      "source": [
        "!pip install -U scikit-learn tensorflow\n"
      ],
      "metadata": {
        "colab": {
          "base_uri": "https://localhost:8080/",
          "height": 0
        },
        "collapsed": true,
        "id": "TuReAvSQpltF",
        "outputId": "aa06a338-bf84-4f0d-e60a-1c20969afa44"
      },
      "id": "TuReAvSQpltF",
      "execution_count": 39,
      "outputs": [
        {
          "output_type": "stream",
          "name": "stdout",
          "text": [
            "Requirement already satisfied: scikit-learn in /usr/local/lib/python3.10/dist-packages (1.5.1)\n",
            "Requirement already satisfied: tensorflow in /usr/local/lib/python3.10/dist-packages (2.17.0)\n",
            "Requirement already satisfied: numpy>=1.19.5 in /usr/local/lib/python3.10/dist-packages (from scikit-learn) (1.25.2)\n",
            "Requirement already satisfied: scipy>=1.6.0 in /usr/local/lib/python3.10/dist-packages (from scikit-learn) (1.11.4)\n",
            "Requirement already satisfied: joblib>=1.2.0 in /usr/local/lib/python3.10/dist-packages (from scikit-learn) (1.4.2)\n",
            "Requirement already satisfied: threadpoolctl>=3.1.0 in /usr/local/lib/python3.10/dist-packages (from scikit-learn) (3.5.0)\n",
            "Requirement already satisfied: absl-py>=1.0.0 in /usr/local/lib/python3.10/dist-packages (from tensorflow) (1.4.0)\n",
            "Requirement already satisfied: astunparse>=1.6.0 in /usr/local/lib/python3.10/dist-packages (from tensorflow) (1.6.3)\n",
            "Requirement already satisfied: flatbuffers>=24.3.25 in /usr/local/lib/python3.10/dist-packages (from tensorflow) (24.3.25)\n",
            "Requirement already satisfied: gast!=0.5.0,!=0.5.1,!=0.5.2,>=0.2.1 in /usr/local/lib/python3.10/dist-packages (from tensorflow) (0.6.0)\n",
            "Requirement already satisfied: google-pasta>=0.1.1 in /usr/local/lib/python3.10/dist-packages (from tensorflow) (0.2.0)\n",
            "Requirement already satisfied: h5py>=3.10.0 in /usr/local/lib/python3.10/dist-packages (from tensorflow) (3.11.0)\n",
            "Requirement already satisfied: libclang>=13.0.0 in /usr/local/lib/python3.10/dist-packages (from tensorflow) (18.1.1)\n",
            "Requirement already satisfied: ml-dtypes<0.5.0,>=0.3.1 in /usr/local/lib/python3.10/dist-packages (from tensorflow) (0.4.0)\n",
            "Requirement already satisfied: opt-einsum>=2.3.2 in /usr/local/lib/python3.10/dist-packages (from tensorflow) (3.3.0)\n",
            "Requirement already satisfied: packaging in /usr/local/lib/python3.10/dist-packages (from tensorflow) (24.1)\n",
            "Requirement already satisfied: protobuf!=4.21.0,!=4.21.1,!=4.21.2,!=4.21.3,!=4.21.4,!=4.21.5,<5.0.0dev,>=3.20.3 in /usr/local/lib/python3.10/dist-packages (from tensorflow) (3.20.3)\n",
            "Requirement already satisfied: requests<3,>=2.21.0 in /usr/local/lib/python3.10/dist-packages (from tensorflow) (2.31.0)\n",
            "Requirement already satisfied: setuptools in /usr/local/lib/python3.10/dist-packages (from tensorflow) (71.0.4)\n",
            "Requirement already satisfied: six>=1.12.0 in /usr/local/lib/python3.10/dist-packages (from tensorflow) (1.16.0)\n",
            "Requirement already satisfied: termcolor>=1.1.0 in /usr/local/lib/python3.10/dist-packages (from tensorflow) (2.4.0)\n",
            "Requirement already satisfied: typing-extensions>=3.6.6 in /usr/local/lib/python3.10/dist-packages (from tensorflow) (4.12.2)\n",
            "Requirement already satisfied: wrapt>=1.11.0 in /usr/local/lib/python3.10/dist-packages (from tensorflow) (1.14.1)\n",
            "Requirement already satisfied: grpcio<2.0,>=1.24.3 in /usr/local/lib/python3.10/dist-packages (from tensorflow) (1.64.1)\n",
            "Requirement already satisfied: tensorboard<2.18,>=2.17 in /usr/local/lib/python3.10/dist-packages (from tensorflow) (2.17.0)\n",
            "Requirement already satisfied: keras>=3.2.0 in /usr/local/lib/python3.10/dist-packages (from tensorflow) (3.4.1)\n",
            "Requirement already satisfied: tensorflow-io-gcs-filesystem>=0.23.1 in /usr/local/lib/python3.10/dist-packages (from tensorflow) (0.37.1)\n",
            "Requirement already satisfied: wheel<1.0,>=0.23.0 in /usr/local/lib/python3.10/dist-packages (from astunparse>=1.6.0->tensorflow) (0.43.0)\n",
            "Requirement already satisfied: rich in /usr/local/lib/python3.10/dist-packages (from keras>=3.2.0->tensorflow) (13.7.1)\n",
            "Requirement already satisfied: namex in /usr/local/lib/python3.10/dist-packages (from keras>=3.2.0->tensorflow) (0.0.8)\n",
            "Requirement already satisfied: optree in /usr/local/lib/python3.10/dist-packages (from keras>=3.2.0->tensorflow) (0.12.1)\n",
            "Requirement already satisfied: charset-normalizer<4,>=2 in /usr/local/lib/python3.10/dist-packages (from requests<3,>=2.21.0->tensorflow) (3.3.2)\n",
            "Requirement already satisfied: idna<4,>=2.5 in /usr/local/lib/python3.10/dist-packages (from requests<3,>=2.21.0->tensorflow) (3.7)\n",
            "Requirement already satisfied: urllib3<3,>=1.21.1 in /usr/local/lib/python3.10/dist-packages (from requests<3,>=2.21.0->tensorflow) (2.0.7)\n",
            "Requirement already satisfied: certifi>=2017.4.17 in /usr/local/lib/python3.10/dist-packages (from requests<3,>=2.21.0->tensorflow) (2024.7.4)\n",
            "Requirement already satisfied: markdown>=2.6.8 in /usr/local/lib/python3.10/dist-packages (from tensorboard<2.18,>=2.17->tensorflow) (3.6)\n",
            "Requirement already satisfied: tensorboard-data-server<0.8.0,>=0.7.0 in /usr/local/lib/python3.10/dist-packages (from tensorboard<2.18,>=2.17->tensorflow) (0.7.2)\n",
            "Requirement already satisfied: werkzeug>=1.0.1 in /usr/local/lib/python3.10/dist-packages (from tensorboard<2.18,>=2.17->tensorflow) (3.0.3)\n",
            "Requirement already satisfied: MarkupSafe>=2.1.1 in /usr/local/lib/python3.10/dist-packages (from werkzeug>=1.0.1->tensorboard<2.18,>=2.17->tensorflow) (2.1.5)\n",
            "Requirement already satisfied: markdown-it-py>=2.2.0 in /usr/local/lib/python3.10/dist-packages (from rich->keras>=3.2.0->tensorflow) (3.0.0)\n",
            "Requirement already satisfied: pygments<3.0.0,>=2.13.0 in /usr/local/lib/python3.10/dist-packages (from rich->keras>=3.2.0->tensorflow) (2.16.1)\n",
            "Requirement already satisfied: mdurl~=0.1 in /usr/local/lib/python3.10/dist-packages (from markdown-it-py>=2.2.0->rich->keras>=3.2.0->tensorflow) (0.1.2)\n"
          ]
        }
      ]
    },
    {
      "cell_type": "markdown",
      "source": [
        "Random Forest Performance Metrics\n"
      ],
      "metadata": {
        "id": "TFxjWxrA5NNC"
      },
      "id": "TFxjWxrA5NNC"
    },
    {
      "cell_type": "code",
      "source": [
        "from sklearn.ensemble import RandomForestClassifier\n",
        "from sklearn.metrics import classification_report, confusion_matrix\n",
        "\n",
        "# Load the dataset and preprocess as done previously\n",
        "data = pd.read_csv('diabetes.csv')\n",
        "X = data.drop('Outcome', axis=1)\n",
        "y = data['Outcome']\n",
        "X_scaled = StandardScaler().fit_transform(X)\n",
        "X_train, X_test, y_train, y_test = train_test_split(X_scaled, y, test_size=0.2, random_state=42)\n",
        "\n",
        "# Define and train the Random Forest model\n",
        "rf_model = RandomForestClassifier(random_state=42)\n",
        "rf_model.fit(X_train, y_train)\n",
        "\n",
        "# Make predictions\n",
        "rf_predictions = rf_model.predict(X_test)\n",
        "\n",
        "# Calculate performance metrics\n",
        "rf_conf_matrix = confusion_matrix(y_test, rf_predictions)\n",
        "rf_class_report = classification_report(y_test, rf_predictions)\n",
        "\n",
        "# True Positives, True Negatives, False Positives, False Negatives\n",
        "TP = rf_conf_matrix[1, 1]\n",
        "TN = rf_conf_matrix[0, 0]\n",
        "FP = rf_conf_matrix[0, 1]\n",
        "FN = rf_conf_matrix[1, 0]\n",
        "\n",
        "# False Positive Rate (FPR) and False Negative Rate (FNR)\n",
        "FPR = FP / (FP + TN)\n",
        "FNR = FN / (FN + TP)\n",
        "\n",
        "# Display metrics\n",
        "print(\"Random Forest Performance Metrics:\")\n",
        "print(\"Confusion Matrix:\")\n",
        "print(rf_conf_matrix)\n",
        "print(\"\\nClassification Report:\")\n",
        "print(rf_class_report)\n",
        "print(\"\\nTrue Positives (TP):\", TP)\n",
        "print(\"True Negatives (TN):\", TN)\n",
        "print(\"False Positives (FP):\", FP)\n",
        "print(\"False Negatives (FN):\", FN)\n",
        "print(\"False Positive Rate (FPR):\", FPR)\n",
        "print(\"False Negative Rate (FNR):\", FNR)\n"
      ],
      "metadata": {
        "collapsed": true,
        "id": "7p-822bw5Pjt",
        "outputId": "1522d48b-7b8a-4227-c28c-4902d153e68d",
        "colab": {
          "base_uri": "https://localhost:8080/"
        }
      },
      "id": "7p-822bw5Pjt",
      "execution_count": 61,
      "outputs": [
        {
          "output_type": "stream",
          "name": "stdout",
          "text": [
            "Random Forest Performance Metrics:\n",
            "Confusion Matrix:\n",
            "[[78 21]\n",
            " [21 34]]\n",
            "\n",
            "Classification Report:\n",
            "              precision    recall  f1-score   support\n",
            "\n",
            "           0       0.79      0.79      0.79        99\n",
            "           1       0.62      0.62      0.62        55\n",
            "\n",
            "    accuracy                           0.73       154\n",
            "   macro avg       0.70      0.70      0.70       154\n",
            "weighted avg       0.73      0.73      0.73       154\n",
            "\n",
            "\n",
            "True Positives (TP): 34\n",
            "True Negatives (TN): 78\n",
            "False Positives (FP): 21\n",
            "False Negatives (FN): 21\n",
            "False Positive Rate (FPR): 0.21212121212121213\n",
            "False Negative Rate (FNR): 0.38181818181818183\n"
          ]
        }
      ]
    },
    {
      "cell_type": "markdown",
      "source": [
        "Neural Network Performance Metrics\n"
      ],
      "metadata": {
        "id": "BZ4YC3dO3nKq"
      },
      "id": "BZ4YC3dO3nKq"
    },
    {
      "cell_type": "code",
      "source": [
        "# Display Neural Network performance metrics here\n",
        "# To be calculated after running the code\n",
        "import tensorflow as tf\n",
        "from sklearn.metrics import classification_report, confusion_matrix\n",
        "\n",
        "# Define and train the Neural Network model\n",
        "nn_model = tf.keras.models.Sequential([\n",
        "    tf.keras.layers.Dense(32, activation='relu', input_shape=(X_train.shape[1],)),\n",
        "    tf.keras.layers.Dense(16, activation='relu'),\n",
        "    tf.keras.layers.Dense(1, activation='sigmoid')\n",
        "])\n",
        "\n",
        "nn_model.compile(optimizer='adam', loss='binary_crossentropy', metrics=['accuracy'])\n",
        "nn_model.fit(X_train, y_train, epochs=10, batch_size=32, validation_split=0.1)\n",
        "\n",
        "# Make predictions\n",
        "nn_predictions = nn_model.predict(X_test)\n",
        "nn_predicted_classes = (nn_predictions > 0.5).astype(int).flatten()\n",
        "\n",
        "# Calculate performance metrics\n",
        "nn_conf_matrix = confusion_matrix(y_test, nn_predicted_classes)\n",
        "nn_class_report = classification_report(y_test, nn_predicted_classes)\n",
        "\n",
        "# True Positives, True Negatives, False Positives, False Negatives\n",
        "TP = nn_conf_matrix[1, 1]\n",
        "TN = nn_conf_matrix[0, 0]\n",
        "FP = nn_conf_matrix[0, 1]\n",
        "FN = nn_conf_matrix[1, 0]\n",
        "\n",
        "# False Positive Rate (FPR) and False Negative Rate (FNR)\n",
        "FPR = FP / (FP + TN)\n",
        "FNR = FN / (FN + TP)\n",
        "\n",
        "# Display metrics\n",
        "print(\"Neural Network Performance Metrics:\")\n",
        "print(\"Confusion Matrix:\")\n",
        "print(nn_conf_matrix)\n",
        "print(\"\\nClassification Report:\")\n",
        "print(nn_class_report)\n",
        "print(\"\\nTrue Positives (TP):\", TP)\n",
        "print(\"True Negatives (TN):\", TN)\n",
        "print(\"False Positives (FP):\", FP)\n",
        "print(\"False Negatives (FN):\", FN)\n",
        "print(\"False Positive Rate (FPR):\", FPR)\n",
        "print(\"False Negative Rate (FNR):\", FNR)\n"
      ],
      "metadata": {
        "colab": {
          "base_uri": "https://localhost:8080/"
        },
        "collapsed": true,
        "id": "0UYh4LOlpr5f",
        "outputId": "ea949be6-2999-407f-a708-743d3d0fd1a4"
      },
      "id": "0UYh4LOlpr5f",
      "execution_count": 62,
      "outputs": [
        {
          "output_type": "stream",
          "name": "stdout",
          "text": [
            "Epoch 1/10\n",
            "18/18 [==============================] - 3s 30ms/step - loss: 0.6600 - accuracy: 0.6558 - val_loss: 0.6399 - val_accuracy: 0.5806\n",
            "Epoch 2/10\n",
            "18/18 [==============================] - 0s 8ms/step - loss: 0.5935 - accuracy: 0.6793 - val_loss: 0.5981 - val_accuracy: 0.6613\n",
            "Epoch 3/10\n",
            "18/18 [==============================] - 0s 8ms/step - loss: 0.5512 - accuracy: 0.7120 - val_loss: 0.5674 - val_accuracy: 0.6613\n",
            "Epoch 4/10\n",
            "18/18 [==============================] - 0s 10ms/step - loss: 0.5212 - accuracy: 0.7174 - val_loss: 0.5450 - val_accuracy: 0.7097\n",
            "Epoch 5/10\n",
            "18/18 [==============================] - 0s 15ms/step - loss: 0.5007 - accuracy: 0.7373 - val_loss: 0.5252 - val_accuracy: 0.7258\n",
            "Epoch 6/10\n",
            "18/18 [==============================] - 0s 8ms/step - loss: 0.4856 - accuracy: 0.7591 - val_loss: 0.5148 - val_accuracy: 0.7419\n",
            "Epoch 7/10\n",
            "18/18 [==============================] - 0s 7ms/step - loss: 0.4752 - accuracy: 0.7717 - val_loss: 0.5040 - val_accuracy: 0.7581\n",
            "Epoch 8/10\n",
            "18/18 [==============================] - 0s 6ms/step - loss: 0.4676 - accuracy: 0.7645 - val_loss: 0.4968 - val_accuracy: 0.7581\n",
            "Epoch 9/10\n",
            "18/18 [==============================] - 0s 14ms/step - loss: 0.4611 - accuracy: 0.7699 - val_loss: 0.4926 - val_accuracy: 0.7581\n",
            "Epoch 10/10\n",
            "18/18 [==============================] - 0s 9ms/step - loss: 0.4562 - accuracy: 0.7772 - val_loss: 0.4883 - val_accuracy: 0.7742\n"
          ]
        },
        {
          "output_type": "stream",
          "name": "stderr",
          "text": [
            "WARNING:tensorflow:AutoGraph could not transform <function Model.make_predict_function.<locals>.predict_function at 0x7c568a7e6440> and will run it as-is.\n",
            "Cause: Unable to locate the source code of <function Model.make_predict_function.<locals>.predict_function at 0x7c568a7e6440>. Note that functions defined in certain environments, like the interactive Python shell, do not expose their source code. If that is the case, you should define them in a .py source file. If you are certain the code is graph-compatible, wrap the call using @tf.autograph.experimental.do_not_convert. Original error: could not get source code\n",
            "To silence this warning, decorate the function with @tf.autograph.experimental.do_not_convert\n"
          ]
        },
        {
          "output_type": "stream",
          "name": "stdout",
          "text": [
            "WARNING: AutoGraph could not transform <function Model.make_predict_function.<locals>.predict_function at 0x7c568a7e6440> and will run it as-is.\n",
            "Cause: Unable to locate the source code of <function Model.make_predict_function.<locals>.predict_function at 0x7c568a7e6440>. Note that functions defined in certain environments, like the interactive Python shell, do not expose their source code. If that is the case, you should define them in a .py source file. If you are certain the code is graph-compatible, wrap the call using @tf.autograph.experimental.do_not_convert. Original error: could not get source code\n",
            "To silence this warning, decorate the function with @tf.autograph.experimental.do_not_convert\n",
            "5/5 [==============================] - 0s 4ms/step\n",
            "Neural Network Performance Metrics:\n",
            "Confusion Matrix:\n",
            "[[81 18]\n",
            " [22 33]]\n",
            "\n",
            "Classification Report:\n",
            "              precision    recall  f1-score   support\n",
            "\n",
            "           0       0.79      0.82      0.80        99\n",
            "           1       0.65      0.60      0.62        55\n",
            "\n",
            "    accuracy                           0.74       154\n",
            "   macro avg       0.72      0.71      0.71       154\n",
            "weighted avg       0.74      0.74      0.74       154\n",
            "\n",
            "\n",
            "True Positives (TP): 33\n",
            "True Negatives (TN): 81\n",
            "False Positives (FP): 18\n",
            "False Negatives (FN): 22\n",
            "False Positive Rate (FPR): 0.18181818181818182\n",
            "False Negative Rate (FNR): 0.4\n"
          ]
        }
      ]
    },
    {
      "cell_type": "markdown",
      "id": "489b828d-c845-4f03-8f47-97a473a1c966",
      "metadata": {
        "id": "489b828d-c845-4f03-8f47-97a473a1c966"
      },
      "source": [
        "## Conclusion\n",
        "\n",
        "In this notebook, we built a Random Forest classification model to predict diabetes outcomes based on the Pima Indians Diabetes dataset. We performed data inspection, preprocessing, model training, and evaluation. The model's performance was evaluated using accuracy score and classification report.\n"
      ]
    },
    {
      "cell_type": "markdown",
      "id": "57b14939-02fb-4ab4-9e11-7fe7c6709aed",
      "metadata": {
        "id": "57b14939-02fb-4ab4-9e11-7fe7c6709aed"
      },
      "source": [
        "## References\n",
        "\n",
        "1. Kaggle Pima Indians Diabetes Dataset: https://www.kaggle.com/datasets/uciml/pima-indians-diabetes-database\n",
        "2. Random Forest Classifier Documentation: https://scikit-learn.org/stable/modules/generated/sklearn.ensemble.RandomForestClassifier.html\n",
        "3. Classification Report Documentation: https://scikit-learn.org/stable/modules/generated/sklearn.metrics.classification_report.html\n"
      ]
    }
  ],
  "metadata": {
    "kernelspec": {
      "display_name": "Python 3 (ipykernel)",
      "language": "python",
      "name": "python3"
    },
    "language_info": {
      "codemirror_mode": {
        "name": "ipython",
        "version": 3
      },
      "file_extension": ".py",
      "mimetype": "text/x-python",
      "name": "python",
      "nbconvert_exporter": "python",
      "pygments_lexer": "ipython3",
      "version": "3.12.2"
    },
    "colab": {
      "provenance": []
    }
  },
  "nbformat": 4,
  "nbformat_minor": 5
}